{
 "cells": [
  {
   "cell_type": "code",
   "execution_count": 2,
   "metadata": {},
   "outputs": [],
   "source": [
    "import torch\n",
    "from torch import nn\n",
    "\n",
    "dtype = torch.float\n",
    "device = torch.device(\"cuda\" if torch.cuda.is_available() else \"cpu\")\n"
   ]
  },
  {
   "cell_type": "code",
   "execution_count": 3,
   "metadata": {},
   "outputs": [],
   "source": [
    "nbatchs = 4\n",
    "x = torch.randn(size=(nbatchs,), device=device, dtype=dtype)\n",
    "\n"
   ]
  },
  {
   "cell_type": "code",
   "execution_count": null,
   "metadata": {},
   "outputs": [],
   "source": [
    "def loss_gan(critic, discr, x, y):\n",
    "    loss_fn = nn.BCELoss()\n",
    "    return (\n",
    "        loss_fn(discr(y), torch.ones_like(discr(y))) +\n",
    "        loss_fn(discr(critic(x)), torch.zeros_like(discr(critic(x))))\n",
    "    )\n",
    "\n",
    "\n",
    "def loss_cyc(F, G, x, y, lmb=1):\n",
    "    FG = torch.norm(F(G(x))-x, p=1, keepdim=True)\n",
    "    GF = torch.norm(G(F(y))-y, p=1, keepdim=True)\n",
    "    return lmb * (FG+GF).mean()\n"
   ]
  }
 ],
 "metadata": {
  "kernelspec": {
   "display_name": "Python 3",
   "language": "python",
   "name": "python3"
  },
  "language_info": {
   "codemirror_mode": {
    "name": "ipython",
    "version": 3
   },
   "file_extension": ".py",
   "mimetype": "text/x-python",
   "name": "python",
   "nbconvert_exporter": "python",
   "pygments_lexer": "ipython3",
   "version": "3.10.5 (tags/v3.10.5:f377153, Jun  6 2022, 16:14:13) [MSC v.1929 64 bit (AMD64)]"
  },
  "orig_nbformat": 4,
  "vscode": {
   "interpreter": {
    "hash": "8c3d4d9970fc5c09c50d9318a9c7fbf4d0159e4b28833276f5678ee22bded273"
   }
  }
 },
 "nbformat": 4,
 "nbformat_minor": 2
}
